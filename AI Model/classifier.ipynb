{
 "cells": [
  {
   "cell_type": "code",
   "execution_count": 10,
   "metadata": {},
   "outputs": [],
   "source": [
    "import pandas as pd\n",
    "import numpy as np\n",
    "import scipy as sp\n",
    "import seaborn as sns\n",
    "import matplotlib.pyplot as plt\n",
    "from sklearn.neighbors import KNeighborsClassifier\n",
    "from sklearn.metrics import accuracy_score\n",
    "from sklearn.model_selection import train_test_split\n",
    "from sklearn.metrics import mean_squared_error\n",
    "from sklearn.metrics import mean_absolute_error\n",
    "from sklearn.metrics import r2_score\n",
    "from sklearn.preprocessing import MinMaxScaler\n",
    "from sklearn.tree import DecisionTreeClassifier\n",
    "from sklearn.tree import DecisionTreeRegressor\n",
    "import pickle\n",
    "from sklearn.ensemble import RandomForestRegressor\n",
    "from sklearn.preprocessing import OneHotEncoder\n",
    "from sklearn.compose import ColumnTransformer\n",
    "from sklearn.pipeline import Pipeline\n",
    "from sklearn.ensemble import GradientBoostingRegressor\n",
    "from sklearn.impute import SimpleImputer\n",
    "from sklearn.preprocessing import StandardScaler\n",
    "from sklearn.ensemble import RandomForestClassifier\n",
    "from sklearn.metrics import classification_report, confusion_matrix\n",
    "from sklearn.ensemble import GradientBoostingClassifier\n",
    "\n"
   ]
  },
  {
   "cell_type": "code",
   "execution_count": 41,
   "metadata": {},
   "outputs": [],
   "source": [
    "data = pd.read_csv('departures_for_model.csv')"
   ]
  },
  {
   "cell_type": "code",
   "execution_count": 42,
   "metadata": {},
   "outputs": [
    {
     "data": {
      "text/html": [
       "<div>\n",
       "<style scoped>\n",
       "    .dataframe tbody tr th:only-of-type {\n",
       "        vertical-align: middle;\n",
       "    }\n",
       "\n",
       "    .dataframe tbody tr th {\n",
       "        vertical-align: top;\n",
       "    }\n",
       "\n",
       "    .dataframe thead th {\n",
       "        text-align: right;\n",
       "    }\n",
       "</style>\n",
       "<table border=\"1\" class=\"dataframe\">\n",
       "  <thead>\n",
       "    <tr style=\"text-align: right;\">\n",
       "      <th></th>\n",
       "      <th>airline</th>\n",
       "      <th>departure_time_scheduled</th>\n",
       "      <th>date_depart</th>\n",
       "      <th>departure_city</th>\n",
       "      <th>destination_city</th>\n",
       "      <th>country</th>\n",
       "      <th>departure_time_difference</th>\n",
       "      <th>departure_status</th>\n",
       "    </tr>\n",
       "  </thead>\n",
       "  <tbody>\n",
       "    <tr>\n",
       "      <th>0</th>\n",
       "      <td>Austrian</td>\n",
       "      <td>06:00:00</td>\n",
       "      <td>2024-09-02</td>\n",
       "      <td>London</td>\n",
       "      <td>Vienna</td>\n",
       "      <td>Austria</td>\n",
       "      <td>11</td>\n",
       "      <td>Delayed</td>\n",
       "    </tr>\n",
       "    <tr>\n",
       "      <th>1</th>\n",
       "      <td>Swiss International Airlines</td>\n",
       "      <td>06:00:00</td>\n",
       "      <td>2024-09-02</td>\n",
       "      <td>London</td>\n",
       "      <td>Zurich</td>\n",
       "      <td>Switzerland</td>\n",
       "      <td>6</td>\n",
       "      <td>Delayed</td>\n",
       "    </tr>\n",
       "    <tr>\n",
       "      <th>2</th>\n",
       "      <td>British Airways</td>\n",
       "      <td>06:15:00</td>\n",
       "      <td>2024-09-02</td>\n",
       "      <td>London</td>\n",
       "      <td>Malaga</td>\n",
       "      <td>Spain</td>\n",
       "      <td>11</td>\n",
       "      <td>Delayed</td>\n",
       "    </tr>\n",
       "    <tr>\n",
       "      <th>3</th>\n",
       "      <td>Air France</td>\n",
       "      <td>06:15:00</td>\n",
       "      <td>2024-09-02</td>\n",
       "      <td>London</td>\n",
       "      <td>Paris</td>\n",
       "      <td>France</td>\n",
       "      <td>6</td>\n",
       "      <td>Delayed</td>\n",
       "    </tr>\n",
       "    <tr>\n",
       "      <th>4</th>\n",
       "      <td>British Airways</td>\n",
       "      <td>06:15:00</td>\n",
       "      <td>2024-09-02</td>\n",
       "      <td>London</td>\n",
       "      <td>Edinburgh</td>\n",
       "      <td>United Kingdom</td>\n",
       "      <td>13</td>\n",
       "      <td>Delayed</td>\n",
       "    </tr>\n",
       "  </tbody>\n",
       "</table>\n",
       "</div>"
      ],
      "text/plain": [
       "                        airline departure_time_scheduled date_depart  \\\n",
       "0                      Austrian                 06:00:00  2024-09-02   \n",
       "1  Swiss International Airlines                 06:00:00  2024-09-02   \n",
       "2               British Airways                 06:15:00  2024-09-02   \n",
       "3                    Air France                 06:15:00  2024-09-02   \n",
       "4               British Airways                 06:15:00  2024-09-02   \n",
       "\n",
       "  departure_city destination_city         country  departure_time_difference  \\\n",
       "0         London           Vienna         Austria                         11   \n",
       "1         London           Zurich     Switzerland                          6   \n",
       "2         London           Malaga           Spain                         11   \n",
       "3         London            Paris          France                          6   \n",
       "4         London        Edinburgh  United Kingdom                         13   \n",
       "\n",
       "  departure_status  \n",
       "0          Delayed  \n",
       "1          Delayed  \n",
       "2          Delayed  \n",
       "3          Delayed  \n",
       "4          Delayed  "
      ]
     },
     "execution_count": 42,
     "metadata": {},
     "output_type": "execute_result"
    }
   ],
   "source": [
    "data.head()"
   ]
  },
  {
   "cell_type": "code",
   "execution_count": 4,
   "metadata": {},
   "outputs": [],
   "source": [
    "data['status_class'] = data['departure_time_difference'].apply(lambda x: 0 if x < 10 else 1)"
   ]
  },
  {
   "cell_type": "code",
   "execution_count": 31,
   "metadata": {},
   "outputs": [],
   "source": [
    "# Combine 'date_depart' and 'departure_time_scheduled' into a single column\n",
    "data['departure_datetime'] = data['date_depart'] + ' ' + data['departure_time_scheduled']\n",
    "data['departure_datetime'] = pd.to_datetime(data['departure_datetime'], format='%Y-%m-%d %H:%M:%S')"
   ]
  },
  {
   "cell_type": "code",
   "execution_count": 33,
   "metadata": {},
   "outputs": [],
   "source": [
    "data['date_depart'] = pd.to_datetime(data['date_depart'], format='%Y-%m-%d')"
   ]
  },
  {
   "cell_type": "code",
   "execution_count": 35,
   "metadata": {},
   "outputs": [],
   "source": [
    "# Define the function to categorize times into the four bins\n",
    "def time_of_day_category(departure_time):\n",
    "    if 5 <= departure_time.hour < 9:\n",
    "        return 1  # Morning (5 AM - 10 PM)\n",
    "    elif 9 <= departure_time.hour < 13:\n",
    "        return 2  # Noon (10 PM - 3 PM)\n",
    "    elif 13 <= departure_time.hour < 18:\n",
    "        return 3  # Day (3 PM - 7 PM)\n",
    "    else:\n",
    "        return 4  # Evening/Night (6 PM - 5 AM)\n",
    "\n",
    "# Apply the function to the 'departure_datetime' column to create the new column\n",
    "data['time_of_day_bin'] = data['departure_datetime'].apply(time_of_day_category)\n"
   ]
  },
  {
   "cell_type": "code",
   "execution_count": 8,
   "metadata": {},
   "outputs": [
    {
     "name": "stderr",
     "output_type": "stream",
     "text": [
      "/var/folders/0x/0vrn4bsj03q36gqflgz3f1sh0000gp/T/ipykernel_50229/3948359474.py:5: FutureWarning: \n",
      "\n",
      "Passing `palette` without assigning `hue` is deprecated and will be removed in v0.14.0. Assign the `x` variable to `hue` and set `legend=False` for the same effect.\n",
      "\n",
      "  sns.barplot(x='time_of_day_bin', y='departure_time_difference', data=time_of_day_sum, palette='viridis')\n"
     ]
    },
    {
     "data": {
      "text/plain": [
       "Text(0.5, 1.0, 'Sum of Departure Time Difference by Time of Day Bins')"
      ]
     },
     "execution_count": 8,
     "metadata": {},
     "output_type": "execute_result"
    },
    {
     "data": {
      "image/png": "[encoded data removed]",
      "text/plain": [
       "<Figure size 800x500 with 1 Axes>"
      ]
     },
     "metadata": {},
     "output_type": "display_data"
    }
   ],
   "source": [
    "time_of_day_sum = data.groupby('time_of_day_bin')['departure_time_difference'].sum().reset_index()\n",
    "\n",
    "# Create the bar plot\n",
    "plt.figure(figsize=(8, 5))\n",
    "sns.barplot(x='time_of_day_bin', y='departure_time_difference', data=time_of_day_sum, palette='viridis')\n",
    "\n",
    "# Add labels and title\n",
    "plt.xlabel('Time of Day (Bins)')\n",
    "plt.ylabel('Sum of Departure Time Difference')\n",
    "plt.title('Sum of Departure Time Difference by Time of Day Bins')"
   ]
  },
  {
   "cell_type": "code",
   "execution_count": 36,
   "metadata": {},
   "outputs": [],
   "source": [
    "def extract_time_features(df, date_column):\n",
    "    df = df.copy()\n",
    "    df['day'] = pd.to_datetime(df[date_column]).dt.day\n",
    "    return df"
   ]
  },
  {
   "cell_type": "code",
   "execution_count": 37,
   "metadata": {},
   "outputs": [],
   "source": [
    "data = extract_time_features(data, 'date_depart')"
   ]
  },
  {
   "cell_type": "code",
   "execution_count": 13,
   "metadata": {},
   "outputs": [
    {
     "data": {
      "text/plain": [
       "(15190, 17)"
      ]
     },
     "execution_count": 13,
     "metadata": {},
     "output_type": "execute_result"
    }
   ],
   "source": [
    "data.shape"
   ]
  },
  {
   "cell_type": "markdown",
   "metadata": {},
   "source": [
    "MERGERS"
   ]
  },
  {
   "cell_type": "code",
   "execution_count": 38,
   "metadata": {},
   "outputs": [],
   "source": [
    "average_departure_time_difference = pd.read_csv('features_departures/average_departure_time_difference.csv')\n",
    "avg_day_airline = pd.read_csv('features_departures/avg_day_airline.csv')\n",
    "avg_day_destination = pd.read_csv('features_departures/avg_day_destination.csv')\n",
    "avg_time_airline = pd.read_csv('features_departures/avg_time_airline.csv')\n",
    "avg_day_airport = pd.read_csv('features_departures/avg_day_airport.csv')\n",
    "\n",
    "data = pd.merge(data, avg_day_destination, \n",
    "                       on=['destination_city', 'day'], \n",
    "                       how='left')\n",
    "\n",
    "data = pd.merge(data, avg_time_airline, \n",
    "                       on=['airline', 'time_of_day_bin'], \n",
    "                       how='left')\n",
    "\n",
    "data = pd.merge(data, avg_day_airline, \n",
    "                       on=['airline', 'day'], \n",
    "                       how='left')\n",
    "\n",
    "data = pd.merge(data, avg_day_airport, \n",
    "                       on=['departure_city', 'day'], \n",
    "                       how='left')\n",
    "\n",
    "data = pd.merge(data, average_departure_time_difference, on='airline', how='left')"
   ]
  },
  {
   "cell_type": "markdown",
   "metadata": {},
   "source": [
    "### THE CLASSIFIER MODEL"
   ]
  },
  {
   "cell_type": "code",
   "execution_count": 22,
   "metadata": {},
   "outputs": [
    {
     "name": "stdout",
     "output_type": "stream",
     "text": [
      "Adjusted Accuracy: 0.8867676102699145\n",
      "Adjusted Classification Report:\n",
      "               precision    recall  f1-score   support\n",
      "\n",
      "           0       0.85      0.87      0.86      1187\n",
      "           1       0.91      0.90      0.91      1851\n",
      "\n",
      "    accuracy                           0.89      3038\n",
      "   macro avg       0.88      0.88      0.88      3038\n",
      "weighted avg       0.89      0.89      0.89      3038\n",
      "\n",
      "Adjusted Confusion Matrix:\n",
      " [[1028  159]\n",
      " [ 185 1666]]\n"
     ]
    }
   ],
   "source": [
    "# Define your categorical and numerical columns\n",
    "categorical_cols = ['airline', 'departure_city', 'destination_city']\n",
    "numerical_cols = ['average_departure_time_difference', 'avg_time_airline', 'avg_day_airline', 'avg_day_destination']\n",
    "\n",
    "# Define your preprocessing pipeline\n",
    "preprocessor = ColumnTransformer(\n",
    "    transformers=[\n",
    "        ('cat', Pipeline(steps=[\n",
    "            ('imputer', SimpleImputer(strategy='most_frequent')),  # Impute categorical features\n",
    "            ('onehot', OneHotEncoder(handle_unknown='ignore'))  # One-hot encode categorical features\n",
    "        ]), categorical_cols),\n",
    "        ('num', Pipeline(steps=[\n",
    "            ('imputer', SimpleImputer(strategy='mean')),  # Impute numerical features\n",
    "            ('scaler', StandardScaler())  # Standardize numerical features\n",
    "        ]), numerical_cols)\n",
    "    ]\n",
    ")\n",
    "\n",
    "# Create and train the model\n",
    "model = Pipeline(steps=[\n",
    "    ('preprocessor', preprocessor),\n",
    "    ('classifier', GradientBoostingClassifier(n_estimators=100, max_depth=5, random_state=42))\n",
    "])\n",
    "\n",
    "# Split the data\n",
    "X = data[['airline', 'departure_city', 'destination_city', 'average_departure_time_difference', 'avg_time_airline', 'avg_day_airline', 'avg_day_destination']]\n",
    "y = data['status_class']\n",
    "X_train, X_test, y_train, y_test = train_test_split(X, y, test_size=0.2, random_state=42)\n",
    "\n",
    "# Train the model\n",
    "model.fit(X_train, y_train)\n",
    "\n",
    "# Predict probabilities\n",
    "y_proba = model.predict_proba(X_test)[:, 1]\n",
    "\n",
    "# Adjust the threshold\n",
    "threshold = 0.45\n",
    "y_pred_adjusted = (y_proba >= threshold).astype(int)\n",
    "\n",
    "# Evaluate the model with adjusted threshold\n",
    "print(\"Adjusted Accuracy:\", accuracy_score(y_test, y_pred_adjusted))\n",
    "print(\"Adjusted Classification Report:\\n\", classification_report(y_test, y_pred_adjusted))\n",
    "print(\"Adjusted Confusion Matrix:\\n\", confusion_matrix(y_test, y_pred_adjusted))\n"
   ]
  },
  {
   "cell_type": "markdown",
   "metadata": {},
   "source": [
    "### THE REGRESSOR MODEL"
   ]
  },
  {
   "cell_type": "code",
   "execution_count": 24,
   "metadata": {},
   "outputs": [
    {
     "name": "stdout",
     "output_type": "stream",
     "text": [
      "Mean Absolute Error: 15.387803267832714\n",
      "R² Score: 0.4096073885479611\n"
     ]
    }
   ],
   "source": [
    "# Select features and target\n",
    "X = data[['airline', 'departure_city', 'destination_city', 'average_departure_time_difference', 'avg_time_airline', 'avg_day_airline', 'avg_day_destination', 'avg_day_airport']]\n",
    "y = data['departure_time_difference']\n",
    "\n",
    "# Split the data into training and test sets\n",
    "X_train, X_test, y_train, y_test = train_test_split(X, y, test_size=0.2, random_state=42)\n",
    "\n",
    "# Set up preprocessing for categorical and numerical columns\n",
    "categorical_cols = ['airline', 'departure_city', 'destination_city']\n",
    "numerical_cols = ['average_departure_time_difference', 'avg_time_airline', 'avg_day_airline', 'avg_day_destination', 'avg_day_airport']\n",
    "\n",
    "# Use ColumnTransformer to apply imputation and one-hot encoding\n",
    "preprocessor = ColumnTransformer(\n",
    "    transformers=[\n",
    "        ('num', Pipeline(steps=[\n",
    "            ('imputer', SimpleImputer(strategy='mean'))\n",
    "        ]), numerical_cols),  # Impute numerical features\n",
    "        ('cat', Pipeline(steps=[\n",
    "            ('imputer', SimpleImputer(strategy='most_frequent')),  # Impute categorical features\n",
    "            ('onehot', OneHotEncoder(handle_unknown='ignore'))\n",
    "        ]), categorical_cols)\n",
    "    ],\n",
    "    remainder='passthrough'  # Ensure that the numerical features are not modified\n",
    ")\n",
    "\n",
    "# Build a pipeline with preprocessor and model\n",
    "model = Pipeline(steps=[('preprocessor', preprocessor),\n",
    "                        ('model', GradientBoostingRegressor(n_estimators=100, random_state=42))])\n",
    "\n",
    "# Train the model\n",
    "model.fit(X_train, y_train)\n",
    "\n",
    "# Predict and evaluate\n",
    "y_pred = model.predict(X_test)\n",
    "print('Mean Absolute Error:', mean_absolute_error(y_test, y_pred))\n",
    "print('R² Score:', r2_score(y_test, y_pred))"
   ]
  },
  {
   "cell_type": "markdown",
   "metadata": {},
   "source": [
    "### Save the Model"
   ]
  },
  {
   "cell_type": "code",
   "execution_count": 23,
   "metadata": {},
   "outputs": [
    {
     "name": "stdout",
     "output_type": "stream",
     "text": [
      "Model saved as 'classifier_model.pkl'.\n"
     ]
    }
   ],
   "source": [
    "# Save the classifier model to a file\n",
    "with open('pickled_model/classifier_model.pkl', 'wb') as file:\n",
    "    pickle.dump(model, file)\n",
    "\n",
    "print(\"Model saved as 'classifier_model.pkl'.\")\n"
   ]
  },
  {
   "cell_type": "code",
   "execution_count": 25,
   "metadata": {},
   "outputs": [
    {
     "name": "stdout",
     "output_type": "stream",
     "text": [
      "Model saved as 'regressor_model.pkl'.\n"
     ]
    }
   ],
   "source": [
    "# Save the classifier model to a file\n",
    "with open('pickled_model/regressor_model.pkl', 'wb') as file:\n",
    "    pickle.dump(model, file)\n",
    "\n",
    "print(\"Model saved as 'regressor_model.pkl'.\")"
   ]
  },
  {
   "cell_type": "markdown",
   "metadata": {},
   "source": [
    "### Using the Model"
   ]
  },
  {
   "cell_type": "code",
   "execution_count": 5,
   "metadata": {},
   "outputs": [
    {
     "name": "stdout",
     "output_type": "stream",
     "text": [
      "Classifier model loaded successfully!\n"
     ]
    }
   ],
   "source": [
    "# Load the saved model\n",
    "with open('pickled_model/classifier_model.pkl', 'rb') as file:\n",
    "    loaded_classifier_model = pickle.load(file)\n",
    "\n",
    "print(\"Classifier model loaded successfully!\")"
   ]
  },
  {
   "cell_type": "code",
   "execution_count": 6,
   "metadata": {},
   "outputs": [
    {
     "name": "stdout",
     "output_type": "stream",
     "text": [
      "Regressor model loaded successfully!\n"
     ]
    }
   ],
   "source": [
    "# Load the saved model\n",
    "with open('pickled_model/regressor_model.pkl', 'rb') as file:\n",
    "    loaded_regressor_model = pickle.load(file)\n",
    "\n",
    "print(\"Regressor model loaded successfully!\")\n"
   ]
  },
  {
   "cell_type": "markdown",
   "metadata": {},
   "source": [
    "### CREATE INPUT DATA"
   ]
  },
  {
   "cell_type": "code",
   "execution_count": 2,
   "metadata": {},
   "outputs": [
    {
     "data": {
      "text/html": [
       "<div>\n",
       "<style scoped>\n",
       "    .dataframe tbody tr th:only-of-type {\n",
       "        vertical-align: middle;\n",
       "    }\n",
       "\n",
       "    .dataframe tbody tr th {\n",
       "        vertical-align: top;\n",
       "    }\n",
       "\n",
       "    .dataframe thead th {\n",
       "        text-align: right;\n",
       "    }\n",
       "</style>\n",
       "<table border=\"1\" class=\"dataframe\">\n",
       "  <thead>\n",
       "    <tr style=\"text-align: right;\">\n",
       "      <th></th>\n",
       "      <th>airline</th>\n",
       "      <th>departure_time_scheduled</th>\n",
       "      <th>date_depart</th>\n",
       "      <th>departure_city</th>\n",
       "      <th>country</th>\n",
       "      <th>destination_city</th>\n",
       "    </tr>\n",
       "  </thead>\n",
       "  <tbody>\n",
       "    <tr>\n",
       "      <th>0</th>\n",
       "      <td>Easyjet</td>\n",
       "      <td>14:25:00</td>\n",
       "      <td>2024-09-21</td>\n",
       "      <td>Berlin</td>\n",
       "      <td>Italy</td>\n",
       "      <td>Milan</td>\n",
       "    </tr>\n",
       "  </tbody>\n",
       "</table>\n",
       "</div>"
      ],
      "text/plain": [
       "   airline departure_time_scheduled date_depart departure_city country  \\\n",
       "0  Easyjet                 14:25:00  2024-09-21         Berlin   Italy   \n",
       "\n",
       "  destination_city  \n",
       "0            Milan  "
      ]
     },
     "execution_count": 2,
     "metadata": {},
     "output_type": "execute_result"
    }
   ],
   "source": [
    "airline = input(\"Airline: \")\n",
    "departure_time_scheduled = input(\"What time, format (xx:xx:xx): \")\n",
    "date = input(\"What date format (YYYY-MM-DD): \")\n",
    "departure_city = input(\"What city do you fly from: \")\n",
    "country = input(\"What country are you flying to: \")\n",
    "destination_city = input(\"What city are you flying to: \")\n",
    "\n",
    "data = {\n",
    "    'airline': [airline],\n",
    "    'departure_time_scheduled': [departure_time_scheduled],\n",
    "    'date_depart': [date],\n",
    "    'departure_city': [departure_city],\n",
    "    'country': [country],\n",
    "    'destination_city': [destination_city]\n",
    "}\n",
    "\n",
    "# Convert the dictionary into a pandas DataFrame\n",
    "validation_data = pd.DataFrame(data)\n",
    "\n",
    "# View the DataFrame\n",
    "validation_data"
   ]
  },
  {
   "cell_type": "code",
   "execution_count": 8,
   "metadata": {},
   "outputs": [
    {
     "data": {
      "text/html": [
       "<div>\n",
       "<style scoped>\n",
       "    .dataframe tbody tr th:only-of-type {\n",
       "        vertical-align: middle;\n",
       "    }\n",
       "\n",
       "    .dataframe tbody tr th {\n",
       "        vertical-align: top;\n",
       "    }\n",
       "\n",
       "    .dataframe thead th {\n",
       "        text-align: right;\n",
       "    }\n",
       "</style>\n",
       "<table border=\"1\" class=\"dataframe\">\n",
       "  <thead>\n",
       "    <tr style=\"text-align: right;\">\n",
       "      <th></th>\n",
       "      <th>airline</th>\n",
       "      <th>departure_time_scheduled</th>\n",
       "      <th>date_depart</th>\n",
       "      <th>departure_city</th>\n",
       "      <th>country</th>\n",
       "      <th>destination_city</th>\n",
       "      <th>departure_datetime</th>\n",
       "      <th>time_of_day_bin</th>\n",
       "      <th>day</th>\n",
       "    </tr>\n",
       "  </thead>\n",
       "  <tbody>\n",
       "    <tr>\n",
       "      <th>0</th>\n",
       "      <td>Easyjet</td>\n",
       "      <td>14:25:00</td>\n",
       "      <td>2024-09-21</td>\n",
       "      <td>Berlin</td>\n",
       "      <td>Italy</td>\n",
       "      <td>Milan</td>\n",
       "      <td>2024-09-21 14:25:00</td>\n",
       "      <td>3</td>\n",
       "      <td>21</td>\n",
       "    </tr>\n",
       "  </tbody>\n",
       "</table>\n",
       "</div>"
      ],
      "text/plain": [
       "   airline departure_time_scheduled date_depart departure_city country  \\\n",
       "0  Easyjet                 14:25:00  2024-09-21         Berlin   Italy   \n",
       "\n",
       "  destination_city  departure_datetime  time_of_day_bin  day  \n",
       "0            Milan 2024-09-21 14:25:00                3   21  "
      ]
     },
     "execution_count": 8,
     "metadata": {},
     "output_type": "execute_result"
    }
   ],
   "source": [
    "validation_data"
   ]
  },
  {
   "cell_type": "markdown",
   "metadata": {},
   "source": [
    "### PREDICT"
   ]
  },
  {
   "cell_type": "code",
   "execution_count": 7,
   "metadata": {},
   "outputs": [
    {
     "name": "stdout",
     "output_type": "stream",
     "text": [
      "Flight 1, Berlin to Milan: Expect medium delays (10-20 minutes).\n"
     ]
    }
   ],
   "source": [
    "# Example usage:\n",
    "# Assuming you have your `loaded_classifier_model` and `loaded_regressor_model` ready\n",
    "processed_validation_data, predictions = process_and_predict_with_regression(validation_data, \n",
    "                                                                              loaded_classifier_model, \n",
    "                                                                              loaded_regressor_model, \n",
    "                                                                              threshold=0.45)"
   ]
  },
  {
   "cell_type": "markdown",
   "metadata": {},
   "source": [
    "## THE PROCESS AND PREDICT FUNCTION"
   ]
  },
  {
   "cell_type": "code",
   "execution_count": 4,
   "metadata": {},
   "outputs": [],
   "source": [
    "def process_and_predict_with_regression(validation_data, classifier_model, regressor_model, threshold):\n",
    "\n",
    "    with open('pickled_model/classifier_model.pkl', 'rb') as file:\n",
    "        loaded_classifier_model = pickle.load(file)\n",
    "    \n",
    "    with open('pickled_model/regressor_model.pkl', 'rb') as file:\n",
    "        loaded_regressor_model = pickle.load(file)\n",
    "\n",
    "    # Load the necessary CSV files\n",
    "    average_departure_time_difference = pd.read_csv('features_departures/average_departure_time_difference.csv')\n",
    "    avg_day_airline = pd.read_csv('features_departures/avg_day_airline.csv')\n",
    "    avg_day_destination = pd.read_csv('features_departures/avg_day_destination.csv')\n",
    "    avg_time_airline = pd.read_csv('features_departures/avg_time_airline.csv')\n",
    "    avg_day_airport = pd.read_csv('features_departures/avg_day_airport.csv')\n",
    "\n",
    "    # Step 1: Combine 'date_depart' and 'departure_time_scheduled' into a datetime column\n",
    "    validation_data['departure_datetime'] = validation_data['date_depart'] + ' ' + validation_data['departure_time_scheduled']\n",
    "    validation_data['departure_datetime'] = pd.to_datetime(validation_data['departure_datetime'], format='%Y-%m-%d %H:%M:%S')\n",
    "\n",
    "    # Step 2: Convert 'date_depart' to datetime\n",
    "    validation_data['date_depart'] = pd.to_datetime(validation_data['date_depart'], format='%Y-%m-%d')\n",
    "\n",
    "    # Step 3: Create 'time_of_day_bin' using the 'departure_datetime' column\n",
    "    def time_of_day_category(departure_time):\n",
    "        if 5 <= departure_time.hour < 9:\n",
    "            return 1  # Morning (5 AM - 9 AM)\n",
    "        elif 9 <= departure_time.hour < 13:\n",
    "            return 2  # Noon (9 AM - 1 PM)\n",
    "        elif 13 <= departure_time.hour < 18:\n",
    "            return 3  # Afternoon (1 PM - 6 PM)\n",
    "        else:\n",
    "            return 4  # Evening/Night (6 PM - 5 AM)\n",
    "\n",
    "    validation_data['time_of_day_bin'] = validation_data['departure_datetime'].apply(time_of_day_category)\n",
    "\n",
    "    # Step 4: Extract 'day' from 'date_depart'\n",
    "    validation_data['day'] = validation_data['date_depart'].dt.day\n",
    "\n",
    "    # Step 5: Merge with the necessary datasets\n",
    "    validation_data = pd.merge(validation_data, avg_day_destination, on=['destination_city', 'day'], how='left')\n",
    "    validation_data = pd.merge(validation_data, avg_time_airline, on=['airline', 'time_of_day_bin'], how='left')\n",
    "    validation_data = pd.merge(validation_data, avg_day_airline, on=['airline', 'day'], how='left')\n",
    "    validation_data = pd.merge(validation_data, avg_day_airport, on=['departure_city', 'day'], how='left')\n",
    "    validation_data = pd.merge(validation_data, average_departure_time_difference, on='airline', how='left')\n",
    "\n",
    "    # Step 6: Select the required columns for the classifier\n",
    "    classifier_data = validation_data[['airline', 'departure_city', 'destination_city', \n",
    "                                       'average_departure_time_difference', 'avg_time_airline', \n",
    "                                       'avg_day_airline', 'avg_day_destination']]\n",
    "\n",
    "    # Step 7: Use the classifier to predict probabilities and apply the threshold\n",
    "    y_proba_new = classifier_model.predict_proba(classifier_data)[:, 1]\n",
    "    y_pred_classifier = (y_proba_new >= threshold).astype(int)\n",
    "\n",
    "    # Step 8: Iterate through the classifier predictions\n",
    "    for i, pred in enumerate(y_pred_classifier):\n",
    "        departure_city = validation_data.iloc[i]['departure_city']\n",
    "        destination_city = validation_data.iloc[i]['destination_city']\n",
    "        \n",
    "        if pred == 1:\n",
    "            # If a delay is expected (classifier predicted 1), use the regressor to predict delay time\n",
    "            regressor_data = validation_data[['airline', 'departure_city', 'destination_city', \n",
    "                                              'average_departure_time_difference', 'avg_time_airline', \n",
    "                                              'avg_day_airline', 'avg_day_destination', 'avg_day_airport']]\n",
    "            # Ensure the data is a DataFrame with one row (reshape it properly)\n",
    "            regressor_input = regressor_data.iloc[[i]]  # Double brackets ensure it remains a DataFrame\n",
    "            delay_pred = regressor_model.predict(regressor_input)\n",
    "\n",
    "            # Adjust the output based on the delay prediction\n",
    "            delay_time = delay_pred[0]\n",
    "            if delay_time < 10:\n",
    "                print(f\"Flight {i+1}, {departure_city} to {destination_city}: Expect short delays.\")\n",
    "            elif delay_time < 20:\n",
    "                print(f\"Flight {i+1}, {departure_city} to {destination_city}: Expect medium delays (10-20 minutes).\")\n",
    "            else:\n",
    "                print(f\"Flight {i+1}, {departure_city} to {destination_city}: Expect long delays.\")\n",
    "        else:\n",
    "            # If no delay is expected (classifier predicted 0), print a message\n",
    "            print(f\"Flight {i+1}, {departure_city} to {destination_city}: No delays expected.\")\n",
    "    \n",
    "    # Return the processed validation data and predictions for further inspection if needed\n",
    "    return validation_data, y_pred_classifier"
   ]
  },
  {
   "cell_type": "code",
   "execution_count": null,
   "metadata": {},
   "outputs": [],
   "source": []
  }
 ],
 "metadata": {
  "kernelspec": {
   "display_name": "env",
   "language": "python",
   "name": "python3"
  },
  "language_info": {
   "codemirror_mode": {
    "name": "ipython",
    "version": 3
   },
   "file_extension": ".py",
   "mimetype": "text/x-python",
   "name": "python",
   "nbconvert_exporter": "python",
   "pygments_lexer": "ipython3",
   "version": "3.12.0"
  }
 },
 "nbformat": 4,
 "nbformat_minor": 2
}
