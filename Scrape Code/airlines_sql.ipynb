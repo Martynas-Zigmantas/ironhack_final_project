{
 "cells": [
  {
   "cell_type": "code",
   "execution_count": 1,
   "id": "316d1718",
   "metadata": {},
   "outputs": [],
   "source": [
    "# this is the library that we will use to create break times in order to mimic human behaviour\n",
    "import time\n",
    "from getpass import getpass\n",
    "\n",
    "\n",
    "# Juicy stuff- these are the Classes we will use for interaction with a webpage:\n",
    "from selenium import webdriver\n",
    "from selenium.webdriver.common.keys import Keys\n",
    "from selenium.webdriver.chrome.service import Service\n",
    "from selenium.webdriver.common.by import By\n",
    "from webdriver_manager.chrome import ChromeDriverManager\n",
    "\n",
    "\n",
    "# library for interacting with the operating system\n",
    "import os\n",
    "\n",
    "# you know pandas it's your best buddy\n",
    "import pandas as pd\n",
    "import numpy as np\n",
    "from bs4 import BeautifulSoup\n",
    "import re\n",
    "\n",
    "# library for directory location:\n",
    "\n",
    "import pathlib\n",
    "from os.path import join\n",
    "\n",
    "#Ignore warning -- Some methods are going to be deprecated and I didn't change all (mainly in the function scrapper)\n",
    "import warnings\n",
    "warnings.filterwarnings('ignore')\n",
    "\n",
    "from playsound import playsound\n",
    "from datetime import datetime\n",
    "import mysql.connector"
   ]
  },
  {
   "cell_type": "code",
   "execution_count": 19,
   "id": "1e753ef5",
   "metadata": {},
   "outputs": [
    {
     "name": "stdout",
     "output_type": "stream",
     "text": [
      "Connection to the database is successful!\n",
      "Tables in the database: [('berlin_arr_vis',), ('berlin_arrivals',), ('berlin_dep_vis',), ('berlin_departures',), ('heathrow_arr_vis',), ('heathrow_arr_vis_full',), ('heathrow_arrivals',), ('heathrow_dep_vis',), ('heathrow_dep_vis_full',), ('heathrow_departures',), ('lisbon_arr_vis',), ('lisbon_arrivals',), ('lisbon_dep_vis',), ('lisbon_departures',)]\n"
     ]
    }
   ],
   "source": [
    "# Step 1: Connect to the MySQL Database\n",
    "connection = mysql.connector.connect(\n",
    "    host=\"127.0.0.1\",         # Database host (use \"localhost\" if running locally)\n",
    "    user=\"root\",              # Your MySQL username\n",
    "    password=\"Lolablades1.\",   # Your MySQL password\n",
    "    database=\"Flights\"         # Database name\n",
    ")\n",
    "\n",
    "cursor = connection.cursor()\n",
    "\n",
    "# Step 2: Double-check the connection\n",
    "if connection.is_connected():\n",
    "    print(\"Connection to the database is successful!\")\n",
    "    \n",
    "    # Step 3: Run a simple query to verify the connection\n",
    "    try:\n",
    "        cursor.execute(\"SHOW TABLES;\")\n",
    "        tables = cursor.fetchall()\n",
    "        print(\"Tables in the database:\", tables)\n",
    "    except mysql.connector.Error as err:\n",
    "        print(f\"Error: {err}\")\n",
    "else:\n",
    "    print(\"Connection failed.\")"
   ]
  },
  {
   "cell_type": "code",
   "execution_count": 20,
   "id": "9b3da47b",
   "metadata": {},
   "outputs": [
    {
     "name": "stdout",
     "output_type": "stream",
     "text": [
      "CSV file uploaded successfully!\n"
     ]
    }
   ],
   "source": [
    "# Load the CSV file\n",
    "csv_file_path = '/Users/martynas/Desktop/Ironhack/Project - Final/airlines_list.csv'\n",
    "df = pd.read_csv(csv_file_path)\n",
    "\n",
    "# Convert column names to lowercase\n",
    "df.columns = df.columns.str.lower()\n",
    "\n",
    "\n",
    "# Create the table (if not exists) with lowercase column names\n",
    "create_table_query = \"\"\"\n",
    "CREATE TABLE IF NOT EXISTS airlines_list (\n",
    "    airline VARCHAR(255),\n",
    "    airline_type VARCHAR(10)\n",
    ");\n",
    "\"\"\"\n",
    "cursor.execute(create_table_query)\n",
    "\n",
    "# Prepare SQL query to insert data\n",
    "insert_query = \"\"\"\n",
    "INSERT INTO airlines_list (airline, airline_type)\n",
    "VALUES (%s, %s)\n",
    "\"\"\"\n",
    "\n",
    "# Insert data into the table\n",
    "for i, row in df.iterrows():\n",
    "    try:\n",
    "        cursor.execute(insert_query, (row['airline'], row['type']))\n",
    "    except mysql.connector.Error as err:\n",
    "        print(f\"Error at row {i}: {err}\")\n",
    "\n",
    "# Commit the transaction\n",
    "connection.commit()\n",
    "\n",
    "# Close the connection\n",
    "cursor.close()\n",
    "connection.close()\n",
    "\n",
    "print(\"CSV file uploaded successfully!\")"
   ]
  },
  {
   "cell_type": "code",
   "execution_count": null,
   "id": "7d2fa8ca",
   "metadata": {},
   "outputs": [],
   "source": []
  }
 ],
 "metadata": {
  "kernelspec": {
   "display_name": "Python 3 (ipykernel)",
   "language": "python",
   "name": "python3"
  },
  "language_info": {
   "codemirror_mode": {
    "name": "ipython",
    "version": 3
   },
   "file_extension": ".py",
   "mimetype": "text/x-python",
   "name": "python",
   "nbconvert_exporter": "python",
   "pygments_lexer": "ipython3",
   "version": "3.11.5"
  }
 },
 "nbformat": 4,
 "nbformat_minor": 5
}
